{
 "cells": [
  {
   "cell_type": "markdown",
   "metadata": {},
   "source": [
    "## This code helps to get rid of many articles that are irrelevant to technology clusters"
   ]
  },
  {
   "cell_type": "markdown",
   "metadata": {},
   "source": [
    "#### At this stage, we are only relying on the information available from title, text and and type of the articles"
   ]
  },
  {
   "cell_type": "code",
   "execution_count": null,
   "metadata": {},
   "outputs": [],
   "source": [
    "import pandas as pd\n",
    "import os \n",
    "import re\n",
    "import numpy as np\n",
    "import spacy\n",
    "pd.set_option('mode.chained_assignment', None)\n",
    "\n",
    "#Package that has libraries of various geolocations\n",
    "from geotext import GeoText"
   ]
  },
  {
   "cell_type": "code",
   "execution_count": null,
   "metadata": {},
   "outputs": [],
   "source": [
    "cat = pd.read_csv('enwiki-20191001-category.csv') #list if Wiki categories and subcategories \n",
    "page = pd.read_csv('enwiki-20191001-page.csv') #list of all pages with characterizing information\n",
    "link= pd.read_csv('enwiki-20191001-categorylinks.csv') #links between categories and subcategories in Wiki"
   ]
  },
  {
   "cell_type": "code",
   "execution_count": null,
   "metadata": {},
   "outputs": [],
   "source": [
    "page = pd.read_csv('enwiki-20191001-page.csv')\n",
    "page=page[['id','namespace','title']]\n",
    "\n",
    "#Leave only pages related to main articles and categories \n",
    "page=page[(page['namespace']==0) | (page['namespace']==14)] \n",
    "page=page.drop_duplicates()\n",
    "page=page.reset_index(drop=True)\n",
    "\n",
    "#Get rid of technical pages and clean title\n",
    "stop_page='companion|user|templates|shared ip addresses from educational institutions|categories|category|composition|use mdy dates|use dmy dates|self-published work|cs1|self-published work|images of|lists of|redirects|redirected|userbox|webarchive|infobox|articles|wikipedia|pages|wikidata|files with no machine-readable|non-free|all free|wikimedia|all-free|webarchive template wayback links|wiki|knight|town|village|culture|history|bishop|school|street|student|restaurant|mayor|festival|death|politician|politics|architecture|musical group|musical band|writer|musician|tourist attraction|commander|king|queen|church|museum|university|gallery|cathedral|neighbourhood|companies|company|country|birth|death|missing|year|award|template:|infobox:|fictional|movie|theatre|tournament|styles|names|novel|people|album|artist|ballet|discography|dance|opera|contest|song|singer|actor|actress|performer|journal|magazine|newsapaper|television series|television episode|television channel|television program|bibliograph|genre|poem|country|municipality|village|historic|event|holiday|person|player|biography|religion|religious|company|military conflict|currency|celebrity'\n",
    "page['title'] = page['title'].str.replace('_',' ')\n",
    "page = page[~page['title'].str.contains(stop_page, na=False)]\n",
    "page=page[~page['title'].str.contains(r'[0-9]', na=False)]\n",
    "titles=page[['title']]\n",
    "titles=titles.drop_duplicates()\n",
    "titles=titles['title'].tolist()\n",
    "titles=' '.join(str(v) for v in titles)\n",
    "\n"
   ]
  },
  {
   "cell_type": "code",
   "execution_count": null,
   "metadata": {},
   "outputs": [],
   "source": [
    "#Get rid of pages related to geographic locations\n",
    "places = GeoText(titles)\n",
    "locations=places.cities+places.countries\n",
    "locations = list(dict.fromkeys(locations))\n",
    "locations_df=pd.DataFrame(locations, columns=['location'])\n",
    "locations='|'.join(locations_df['location'].tolist())\n",
    "page = page[~page['title'].str.contains(locations, na=False)]\n"
   ]
  },
  {
   "cell_type": "markdown",
   "metadata": {},
   "source": [
    "\n",
    "\n",
    "####### Repeat the same thing for categories file and link file"
   ]
  },
  {
   "cell_type": "code",
   "execution_count": null,
   "metadata": {},
   "outputs": [],
   "source": [
    "#Categories\n",
    "cat['title'] = cat['title'].str.replace('_',' ')\n",
    "cat = cat[~cat[\"title\"].str.contains(locations, na=False)]\n",
    "cat[\"title\"] = cat[\"title\"].str.lower()\n",
    "cat = cat[~cat[\"title\"].str.contains(stop, na=False)]\n",
    "cat=cat.drop(['id'], axis=1)\n",
    "cat=cat[~cat['title'].str.contains(r'[0-9]', na=False)]\n",
    "cat.is_copy = None\n",
    "cat=cat.drop(['files','subcats'], axis=1)\n",
    "cat=cat.drop_duplicates()\n",
    "\n",
    "\n",
    "#Links\n",
    "link=link.drop(['sortkey','timestamp','collation'], axis=1)\n",
    "link=link.dropna(subset=['type'])\n",
    "link = link[link[\"type\"].str.contains('page|subcat')]\n",
    "import numpy as np\n",
    "link = link.replace(np.nan, '', regex=True)\n",
    "link['to'] = link['to'].str.replace('_',' ')\n",
    "link = link[~link[\"to\"].str.contains(locations, na=False)]\n",
    "link[\"to\"] = link[\"to\"].str.lower()\n",
    "link = link[~link[\"to\"].str.contains(stop, na=False)]\n",
    "link=link[~link['to'].str.contains(r'[0-9]', na=False)]\n",
    "\n",
    "link['sortkey_prefix'] = link['sortkey_prefix'].str.replace('_',' ')\n",
    "link[\"sortkey_prefix\"]=link[\"sortkey_prefix\"].str.lower()\n",
    "link = link[~link[\"sortkey_prefix\"].str.contains(stop, na=False)]\n",
    "link = link[~link[\"sortkey_prefix\"].str.contains(locations, na=False)]\n",
    "link=link[~link['sortkey_prefix'].str.contains(r'[0-9]', na=False)]"
   ]
  },
  {
   "cell_type": "code",
   "execution_count": null,
   "metadata": {},
   "outputs": [],
   "source": [
    "#Leave only connections related to links between pages and subcategories/categories\n",
    "link=link.drop(['sortkey','timestamp','collation'], axis=1)\n",
    "link=link.dropna(subset=['type'])\n",
    "link = link[link[\"type\"].str.contains('page|subcat')]\n",
    "link = link.replace(np.nan, '', regex=True)"
   ]
  }
 ],
 "metadata": {
  "kernelspec": {
   "display_name": "Python 3",
   "language": "python",
   "name": "python3"
  },
  "language_info": {
   "codemirror_mode": {
    "name": "ipython",
    "version": 3
   },
   "file_extension": ".py",
   "mimetype": "text/x-python",
   "name": "python",
   "nbconvert_exporter": "python",
   "pygments_lexer": "ipython3",
   "version": "3.7.4"
  }
 },
 "nbformat": 4,
 "nbformat_minor": 2
}
